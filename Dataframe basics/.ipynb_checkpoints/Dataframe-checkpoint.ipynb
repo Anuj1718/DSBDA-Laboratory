{
 "cells": [
  {
   "cell_type": "raw",
   "id": "911df3d6-7a52-436f-8f65-bca1099e7313",
   "metadata": {},
   "source": [
    "DataFrame (df) is a 2-dimensional labeled data structure provided by Pandas in Python. It’s similar to a table or a spreadsheet, where data is organized in rows and columns.\n",
    "\n",
    "Each column can have different data types (numeric, string, boolean, etc.), and each row represents an observation or entry.\n",
    "\n",
    "Key Features of a DataFrame:\n",
    "Rows: Represent individual records or data points.\n",
    "\n",
    "Columns: Represent different features or attributes of the data.\n",
    "\n",
    "Index: Each row is labeled with an index (by default, it starts with numbers from 0 to n-1).\n",
    "\n",
    "Why We Use DataFrames:\n",
    "DataFrames are extremely useful for handling structured data. They make it easy to manipulate, clean, analyze, and visualize datasets.\n",
    "\n",
    "pandas is a fast, powerful, flexible and easy to use open source data analysis and manipulation tool,\n",
    "built on top of the Python programming language.\n",
    "Dataframe : Two-dimensional, size-mutable, potentially heterogeneous tabular data.\n"
   ]
  },
  {
   "cell_type": "raw",
   "id": "ff6deb42-b43c-47fa-ad5b-77b9e1f292e8",
   "metadata": {},
   "source": [
    "Example of a DataFrame\n",
    "Let’s consider an example of a DataFrame for a list of students:\n",
    "\n",
    "Index\tName\tAge\tGrade\n",
    "0\tAlice\t22\tA\n",
    "1\tBob\t23\tB\n",
    "2\tCharlie\t22\tA\n",
    "3\tDavid\t24\tC\n",
    "In code, you can create this DataFrame with Pandas:"
   ]
  },
  {
   "cell_type": "code",
   "execution_count": 3,
   "id": "0dfdf494-9df9-4d9e-8291-4e0b87aca65e",
   "metadata": {},
   "outputs": [
    {
     "name": "stdout",
     "output_type": "stream",
     "text": [
      "      Name  Age Grade\n",
      "0    Alice   22     A\n",
      "1      Bob   23     B\n",
      "2  Charlie   22     A\n",
      "3    David   24     C\n"
     ]
    }
   ],
   "source": [
    "import pandas as pd\n",
    "import numpy as np\n",
    "# Create a DataFrame\n",
    "data = {\n",
    "    'Name': ['Alice', 'Bob', 'Charlie', 'David'],\n",
    "    'Age': [22, 23, 22, 24],\n",
    "    'Grade': ['A', 'B', 'A', 'C']\n",
    "}\n",
    "\n",
    "df = pd.DataFrame(data)\n",
    "# Create a DataFrame from a dictionary\n",
    "\n",
    "# Display the DataFrame\n",
    "print(df)\n"
   ]
  },
  {
   "cell_type": "raw",
   "id": "4335e15f-5ead-460e-980b-b453503442cc",
   "metadata": {},
   "source": [
    "In the code:\n",
    "\n",
    "df refers to the DataFrame object.\n",
    "\n",
    "df.head() shows the first 5 rows of the DataFrame (you can specify a different number inside head()).\n",
    "\n",
    "df.shape gives the dimensions (rows, columns) of the DataFrame"
   ]
  },
  {
   "cell_type": "raw",
   "id": "dd9077fd-13dd-41d2-b789-d56878b6e358",
   "metadata": {},
   "source": [
    "Common DataFrame Operations:\n",
    "Accessing a column: df['Age'] will give you the Age column.\n",
    "\n",
    "Filtering rows: df[df['Grade'] == 'A'] filters all rows where the grade is 'A'.\n",
    "\n",
    "Adding a column: df['Passed'] = df['Grade'] != 'C' adds a new column based on the condition.\n",
    "This adds a new boolean column Passed where True means the student did not get a 'C' grade.\n",
    "\n",
    "Dropping a column: df.drop('Age', axis=1) will remove the Age column.\n",
    " Returns a new DataFrame without the 'Age' column.\n",
    "If you want to update df, you need:\n",
    "df = df.drop('Age', axis=1)\n",
    "or \n",
    "df.drop('Age', axis=1, inplace=True)\n",
    "\n",
    "axis=0 → move down the table → affects rows\n",
    "\n",
    "axis=1 → move across the table → affects columns\n",
    "\n",
    "df.drop('Age', axis=0)\n",
    "this is incorrect \n",
    "KeyError: \"['Age'] not found in axis\"\n",
    "\n",
    "axis=0 means you're trying to drop a row — pandas expects row labels (i.e., index values like 0, 1, 2...), not column names.\n",
    "\n",
    "'Age' is a column, not a row index, so it fails.\n",
    "\n",
    "correct usage : df.drop(2, axis=0)\n",
    "would drop row with index 2"
   ]
  },
  {
   "cell_type": "code",
   "execution_count": 4,
   "id": "b4c4eb35-348c-4ec6-a265-81ce1f4f1eb0",
   "metadata": {},
   "outputs": [
    {
     "data": {
      "text/html": [
       "<div>\n",
       "<style scoped>\n",
       "    .dataframe tbody tr th:only-of-type {\n",
       "        vertical-align: middle;\n",
       "    }\n",
       "\n",
       "    .dataframe tbody tr th {\n",
       "        vertical-align: top;\n",
       "    }\n",
       "\n",
       "    .dataframe thead th {\n",
       "        text-align: right;\n",
       "    }\n",
       "</style>\n",
       "<table border=\"1\" class=\"dataframe\">\n",
       "  <thead>\n",
       "    <tr style=\"text-align: right;\">\n",
       "      <th></th>\n",
       "      <th>Name</th>\n",
       "      <th>Age</th>\n",
       "      <th>Grade</th>\n",
       "    </tr>\n",
       "  </thead>\n",
       "  <tbody>\n",
       "    <tr>\n",
       "      <th>0</th>\n",
       "      <td>Alice</td>\n",
       "      <td>22</td>\n",
       "      <td>A</td>\n",
       "    </tr>\n",
       "    <tr>\n",
       "      <th>1</th>\n",
       "      <td>Bob</td>\n",
       "      <td>23</td>\n",
       "      <td>B</td>\n",
       "    </tr>\n",
       "    <tr>\n",
       "      <th>2</th>\n",
       "      <td>Charlie</td>\n",
       "      <td>22</td>\n",
       "      <td>A</td>\n",
       "    </tr>\n",
       "    <tr>\n",
       "      <th>3</th>\n",
       "      <td>David</td>\n",
       "      <td>24</td>\n",
       "      <td>C</td>\n",
       "    </tr>\n",
       "  </tbody>\n",
       "</table>\n",
       "</div>"
      ],
      "text/plain": [
       "      Name  Age Grade\n",
       "0    Alice   22     A\n",
       "1      Bob   23     B\n",
       "2  Charlie   22     A\n",
       "3    David   24     C"
      ]
     },
     "execution_count": 4,
     "metadata": {},
     "output_type": "execute_result"
    }
   ],
   "source": [
    "df\n"
   ]
  },
  {
   "cell_type": "code",
   "execution_count": 6,
   "id": "9bb2243f-8576-4b81-ae33-e421b5932a21",
   "metadata": {},
   "outputs": [
    {
     "name": "stdout",
     "output_type": "stream",
     "text": [
      "      Name  Age Grade\n",
      "0    Alice   22     A\n",
      "1      Bob   23     B\n",
      "2  Charlie   22     A\n",
      "3    David   24     C\n"
     ]
    }
   ],
   "source": [
    "print(df)"
   ]
  },
  {
   "cell_type": "code",
   "execution_count": 18,
   "id": "72f7f33f-9eff-428c-b891-8bf0090b7805",
   "metadata": {},
   "outputs": [
    {
     "data": {
      "text/html": [
       "<div>\n",
       "<style scoped>\n",
       "    .dataframe tbody tr th:only-of-type {\n",
       "        vertical-align: middle;\n",
       "    }\n",
       "\n",
       "    .dataframe tbody tr th {\n",
       "        vertical-align: top;\n",
       "    }\n",
       "\n",
       "    .dataframe thead th {\n",
       "        text-align: right;\n",
       "    }\n",
       "</style>\n",
       "<table border=\"1\" class=\"dataframe\">\n",
       "  <thead>\n",
       "    <tr style=\"text-align: right;\">\n",
       "      <th></th>\n",
       "      <th>Name</th>\n",
       "      <th>Age</th>\n",
       "      <th>Grade</th>\n",
       "    </tr>\n",
       "  </thead>\n",
       "  <tbody>\n",
       "    <tr>\n",
       "      <th>0</th>\n",
       "      <td>Alice</td>\n",
       "      <td>22</td>\n",
       "      <td>A</td>\n",
       "    </tr>\n",
       "    <tr>\n",
       "      <th>1</th>\n",
       "      <td>Bob</td>\n",
       "      <td>23</td>\n",
       "      <td>B</td>\n",
       "    </tr>\n",
       "    <tr>\n",
       "      <th>2</th>\n",
       "      <td>Charlie</td>\n",
       "      <td>22</td>\n",
       "      <td>A</td>\n",
       "    </tr>\n",
       "    <tr>\n",
       "      <th>3</th>\n",
       "      <td>David</td>\n",
       "      <td>24</td>\n",
       "      <td>C</td>\n",
       "    </tr>\n",
       "  </tbody>\n",
       "</table>\n",
       "</div>"
      ],
      "text/plain": [
       "      Name  Age Grade\n",
       "0    Alice   22     A\n",
       "1      Bob   23     B\n",
       "2  Charlie   22     A\n",
       "3    David   24     C"
      ]
     },
     "execution_count": 18,
     "metadata": {},
     "output_type": "execute_result"
    }
   ],
   "source": [
    "df.head()"
   ]
  },
  {
   "cell_type": "code",
   "execution_count": 22,
   "id": "9bb6077e-aa0c-4000-a715-d6dc204a97fb",
   "metadata": {},
   "outputs": [
    {
     "data": {
      "text/html": [
       "<div>\n",
       "<style scoped>\n",
       "    .dataframe tbody tr th:only-of-type {\n",
       "        vertical-align: middle;\n",
       "    }\n",
       "\n",
       "    .dataframe tbody tr th {\n",
       "        vertical-align: top;\n",
       "    }\n",
       "\n",
       "    .dataframe thead th {\n",
       "        text-align: right;\n",
       "    }\n",
       "</style>\n",
       "<table border=\"1\" class=\"dataframe\">\n",
       "  <thead>\n",
       "    <tr style=\"text-align: right;\">\n",
       "      <th></th>\n",
       "      <th>Name</th>\n",
       "      <th>Age</th>\n",
       "      <th>Grade</th>\n",
       "    </tr>\n",
       "  </thead>\n",
       "  <tbody>\n",
       "    <tr>\n",
       "      <th>2</th>\n",
       "      <td>Charlie</td>\n",
       "      <td>22</td>\n",
       "      <td>A</td>\n",
       "    </tr>\n",
       "    <tr>\n",
       "      <th>3</th>\n",
       "      <td>David</td>\n",
       "      <td>24</td>\n",
       "      <td>C</td>\n",
       "    </tr>\n",
       "  </tbody>\n",
       "</table>\n",
       "</div>"
      ],
      "text/plain": [
       "      Name  Age Grade\n",
       "2  Charlie   22     A\n",
       "3    David   24     C"
      ]
     },
     "execution_count": 22,
     "metadata": {},
     "output_type": "execute_result"
    }
   ],
   "source": [
    "df.tail(2)"
   ]
  },
  {
   "cell_type": "code",
   "execution_count": 24,
   "id": "ad8fb0de-eefd-4983-b19e-a8d1853b6592",
   "metadata": {},
   "outputs": [
    {
     "data": {
      "text/plain": [
       "(4, 3)"
      ]
     },
     "execution_count": 24,
     "metadata": {},
     "output_type": "execute_result"
    }
   ],
   "source": [
    "df.shape"
   ]
  },
  {
   "cell_type": "code",
   "execution_count": 26,
   "id": "0b2cda4f-cd5c-4211-81b9-9469fc637027",
   "metadata": {},
   "outputs": [
    {
     "data": {
      "text/html": [
       "<div>\n",
       "<style scoped>\n",
       "    .dataframe tbody tr th:only-of-type {\n",
       "        vertical-align: middle;\n",
       "    }\n",
       "\n",
       "    .dataframe tbody tr th {\n",
       "        vertical-align: top;\n",
       "    }\n",
       "\n",
       "    .dataframe thead th {\n",
       "        text-align: right;\n",
       "    }\n",
       "</style>\n",
       "<table border=\"1\" class=\"dataframe\">\n",
       "  <thead>\n",
       "    <tr style=\"text-align: right;\">\n",
       "      <th></th>\n",
       "      <th>Age</th>\n",
       "    </tr>\n",
       "  </thead>\n",
       "  <tbody>\n",
       "    <tr>\n",
       "      <th>count</th>\n",
       "      <td>4.000000</td>\n",
       "    </tr>\n",
       "    <tr>\n",
       "      <th>mean</th>\n",
       "      <td>22.750000</td>\n",
       "    </tr>\n",
       "    <tr>\n",
       "      <th>std</th>\n",
       "      <td>0.957427</td>\n",
       "    </tr>\n",
       "    <tr>\n",
       "      <th>min</th>\n",
       "      <td>22.000000</td>\n",
       "    </tr>\n",
       "    <tr>\n",
       "      <th>25%</th>\n",
       "      <td>22.000000</td>\n",
       "    </tr>\n",
       "    <tr>\n",
       "      <th>50%</th>\n",
       "      <td>22.500000</td>\n",
       "    </tr>\n",
       "    <tr>\n",
       "      <th>75%</th>\n",
       "      <td>23.250000</td>\n",
       "    </tr>\n",
       "    <tr>\n",
       "      <th>max</th>\n",
       "      <td>24.000000</td>\n",
       "    </tr>\n",
       "  </tbody>\n",
       "</table>\n",
       "</div>"
      ],
      "text/plain": [
       "             Age\n",
       "count   4.000000\n",
       "mean   22.750000\n",
       "std     0.957427\n",
       "min    22.000000\n",
       "25%    22.000000\n",
       "50%    22.500000\n",
       "75%    23.250000\n",
       "max    24.000000"
      ]
     },
     "execution_count": 26,
     "metadata": {},
     "output_type": "execute_result"
    }
   ],
   "source": [
    "df.describe()\n",
    "# would do it for numeric columns, here age\n",
    "# What about non-numeric columns like Name and Grade?\n",
    "# By default, describe() skips them.\n",
    "# Use df.describe(include='all') to include all columns, including strings\n",
    "\n",
    "# std dev = /(sigma((xi - xbar)^2)/n-1)\n",
    "\n",
    "\n",
    "# 25th Percentile (Q1)\n",
    "# This is the value at 25% of the way through the sorted list.\n",
    "\n",
    "# ### 🔹 25th Percentile (Q1)\n",
    "\n",
    "# Step-by-step:\n",
    "\n",
    "# Position = (n - 1) × 0.25\n",
    "#          = (4 - 1) × 0.25\n",
    "#          = 3 × 0.25\n",
    "#      = 0.75\n",
    "\n",
    "# So, look between the **0th and 1st** values in the sorted list:  \n",
    "# → 0th = 22, 1st = 22\n",
    "\n",
    "# Interpolate:\n",
    "\n",
    "# Q1 = 22 + 0.75 × (22 - 22)\n",
    "#    = 22 + 0\n",
    "#    = 22.0\n",
    "\n",
    "# ✅ 25% = **22.0**\n",
    "\n",
    "# ### 🔹 75th Percentile (Q3)\n",
    "\n",
    "# Step-by-step:\n",
    "\n",
    "# Position = (n - 1) × 0.75\n",
    "#          = 3 × 0.75\n",
    "#          = 2.25\n",
    "\n",
    "# So, look between the **2nd and 3rd** values:  \n",
    "# → 2nd = 23, 3rd = 24\n",
    "\n",
    "# Interpolate:\n",
    "\n",
    "# Q3 = 23 + 0.25 × (24 - 23)\n",
    "#    = 23 + 0.25\n",
    "#    = 23.25\n",
    "\n"
   ]
  },
  {
   "cell_type": "code",
   "execution_count": 28,
   "id": "117efdd1-7630-4132-a942-4b5014ce227c",
   "metadata": {},
   "outputs": [
    {
     "name": "stdout",
     "output_type": "stream",
     "text": [
      "<class 'pandas.core.frame.DataFrame'>\n",
      "RangeIndex: 4 entries, 0 to 3\n",
      "Data columns (total 3 columns):\n",
      " #   Column  Non-Null Count  Dtype \n",
      "---  ------  --------------  ----- \n",
      " 0   Name    4 non-null      object\n",
      " 1   Age     4 non-null      int64 \n",
      " 2   Grade   4 non-null      object\n",
      "dtypes: int64(1), object(2)\n",
      "memory usage: 228.0+ bytes\n"
     ]
    }
   ],
   "source": [
    "df.info()"
   ]
  },
  {
   "cell_type": "code",
   "execution_count": 5,
   "id": "238c6fa3-c2d0-4274-9761-fc8f753d7bf3",
   "metadata": {},
   "outputs": [
    {
     "name": "stdout",
     "output_type": "stream",
     "text": [
      "Name     object\n",
      "Age       int64\n",
      "Grade    object\n",
      "dtype: object\n"
     ]
    }
   ],
   "source": [
    "print(df.dtypes)\n",
    "\n",
    "# Explanation:\n",
    "# Name → object\n",
    "# Because it's a column of strings (names), and in pandas, string data is usually stored as object dtype.\n",
    "\n",
    "# Age → int64\n",
    "# It's a column of integers, so pandas stores it as 64-bit integers."
   ]
  },
  {
   "cell_type": "code",
   "execution_count": 81,
   "id": "79b39ffa-e78b-4838-a3ed-cad588890c80",
   "metadata": {},
   "outputs": [
    {
     "data": {
      "text/plain": [
       "12"
      ]
     },
     "execution_count": 81,
     "metadata": {},
     "output_type": "execute_result"
    }
   ],
   "source": [
    "df.size\n",
    "#total number of elements"
   ]
  },
  {
   "cell_type": "code",
   "execution_count": 83,
   "id": "f5913fd4-04a3-44c8-b24b-98f91863f081",
   "metadata": {},
   "outputs": [
    {
     "data": {
      "text/plain": [
       "2"
      ]
     },
     "execution_count": 83,
     "metadata": {},
     "output_type": "execute_result"
    }
   ],
   "source": [
    " df.ndim # : to check 1d, 2d ... i.e n dimensions "
   ]
  },
  {
   "cell_type": "code",
   "execution_count": 30,
   "id": "082a6375-58ce-46ab-9cda-44eec8b3dae0",
   "metadata": {},
   "outputs": [
    {
     "data": {
      "text/html": [
       "<div>\n",
       "<style scoped>\n",
       "    .dataframe tbody tr th:only-of-type {\n",
       "        vertical-align: middle;\n",
       "    }\n",
       "\n",
       "    .dataframe tbody tr th {\n",
       "        vertical-align: top;\n",
       "    }\n",
       "\n",
       "    .dataframe thead th {\n",
       "        text-align: right;\n",
       "    }\n",
       "</style>\n",
       "<table border=\"1\" class=\"dataframe\">\n",
       "  <thead>\n",
       "    <tr style=\"text-align: right;\">\n",
       "      <th></th>\n",
       "      <th>Name</th>\n",
       "      <th>Age</th>\n",
       "      <th>Grade</th>\n",
       "    </tr>\n",
       "  </thead>\n",
       "  <tbody>\n",
       "    <tr>\n",
       "      <th>0</th>\n",
       "      <td>False</td>\n",
       "      <td>False</td>\n",
       "      <td>False</td>\n",
       "    </tr>\n",
       "    <tr>\n",
       "      <th>1</th>\n",
       "      <td>False</td>\n",
       "      <td>False</td>\n",
       "      <td>False</td>\n",
       "    </tr>\n",
       "    <tr>\n",
       "      <th>2</th>\n",
       "      <td>False</td>\n",
       "      <td>False</td>\n",
       "      <td>False</td>\n",
       "    </tr>\n",
       "    <tr>\n",
       "      <th>3</th>\n",
       "      <td>False</td>\n",
       "      <td>False</td>\n",
       "      <td>False</td>\n",
       "    </tr>\n",
       "  </tbody>\n",
       "</table>\n",
       "</div>"
      ],
      "text/plain": [
       "    Name    Age  Grade\n",
       "0  False  False  False\n",
       "1  False  False  False\n",
       "2  False  False  False\n",
       "3  False  False  False"
      ]
     },
     "execution_count": 30,
     "metadata": {},
     "output_type": "execute_result"
    }
   ],
   "source": [
    "df.isnull()"
   ]
  },
  {
   "cell_type": "code",
   "execution_count": 75,
   "id": "b5d33c2e-d1f3-4ce5-9d13-0628d0823652",
   "metadata": {},
   "outputs": [
    {
     "data": {
      "text/plain": [
       "Name     0\n",
       "Age      0\n",
       "Grade    0\n",
       "dtype: int64"
      ]
     },
     "execution_count": 75,
     "metadata": {},
     "output_type": "execute_result"
    }
   ],
   "source": [
    "df.isnull().sum()"
   ]
  },
  {
   "cell_type": "code",
   "execution_count": 77,
   "id": "97125c3a-1050-4257-b585-ee9a7cd0efe3",
   "metadata": {},
   "outputs": [
    {
     "data": {
      "text/html": [
       "<div>\n",
       "<style scoped>\n",
       "    .dataframe tbody tr th:only-of-type {\n",
       "        vertical-align: middle;\n",
       "    }\n",
       "\n",
       "    .dataframe tbody tr th {\n",
       "        vertical-align: top;\n",
       "    }\n",
       "\n",
       "    .dataframe thead th {\n",
       "        text-align: right;\n",
       "    }\n",
       "</style>\n",
       "<table border=\"1\" class=\"dataframe\">\n",
       "  <thead>\n",
       "    <tr style=\"text-align: right;\">\n",
       "      <th></th>\n",
       "      <th>Name</th>\n",
       "      <th>Age</th>\n",
       "      <th>Grade</th>\n",
       "    </tr>\n",
       "  </thead>\n",
       "  <tbody>\n",
       "    <tr>\n",
       "      <th>0</th>\n",
       "      <td>True</td>\n",
       "      <td>True</td>\n",
       "      <td>True</td>\n",
       "    </tr>\n",
       "    <tr>\n",
       "      <th>1</th>\n",
       "      <td>True</td>\n",
       "      <td>True</td>\n",
       "      <td>True</td>\n",
       "    </tr>\n",
       "    <tr>\n",
       "      <th>2</th>\n",
       "      <td>True</td>\n",
       "      <td>True</td>\n",
       "      <td>True</td>\n",
       "    </tr>\n",
       "    <tr>\n",
       "      <th>3</th>\n",
       "      <td>True</td>\n",
       "      <td>True</td>\n",
       "      <td>True</td>\n",
       "    </tr>\n",
       "  </tbody>\n",
       "</table>\n",
       "</div>"
      ],
      "text/plain": [
       "   Name   Age  Grade\n",
       "0  True  True   True\n",
       "1  True  True   True\n",
       "2  True  True   True\n",
       "3  True  True   True"
      ]
     },
     "execution_count": 77,
     "metadata": {},
     "output_type": "execute_result"
    }
   ],
   "source": [
    "df.notnull()"
   ]
  },
  {
   "cell_type": "code",
   "execution_count": 79,
   "id": "f641fb97-ceb9-451d-a007-04ac9421bc08",
   "metadata": {},
   "outputs": [
    {
     "data": {
      "text/plain": [
       "Name     4\n",
       "Age      4\n",
       "Grade    4\n",
       "dtype: int64"
      ]
     },
     "execution_count": 79,
     "metadata": {},
     "output_type": "execute_result"
    }
   ],
   "source": [
    "df.notnull().sum()"
   ]
  },
  {
   "cell_type": "code",
   "execution_count": 32,
   "id": "892ead16-c37b-4da9-884c-7273334c958d",
   "metadata": {},
   "outputs": [],
   "source": [
    "frame1=df.copy()"
   ]
  },
  {
   "cell_type": "code",
   "execution_count": 34,
   "id": "768ed583-70a0-43ee-8a02-243da067e59d",
   "metadata": {},
   "outputs": [
    {
     "data": {
      "text/html": [
       "<div>\n",
       "<style scoped>\n",
       "    .dataframe tbody tr th:only-of-type {\n",
       "        vertical-align: middle;\n",
       "    }\n",
       "\n",
       "    .dataframe tbody tr th {\n",
       "        vertical-align: top;\n",
       "    }\n",
       "\n",
       "    .dataframe thead th {\n",
       "        text-align: right;\n",
       "    }\n",
       "</style>\n",
       "<table border=\"1\" class=\"dataframe\">\n",
       "  <thead>\n",
       "    <tr style=\"text-align: right;\">\n",
       "      <th></th>\n",
       "      <th>Name</th>\n",
       "      <th>Age</th>\n",
       "      <th>Grade</th>\n",
       "    </tr>\n",
       "  </thead>\n",
       "  <tbody>\n",
       "    <tr>\n",
       "      <th>0</th>\n",
       "      <td>Alice</td>\n",
       "      <td>22</td>\n",
       "      <td>A</td>\n",
       "    </tr>\n",
       "    <tr>\n",
       "      <th>1</th>\n",
       "      <td>Bob</td>\n",
       "      <td>23</td>\n",
       "      <td>B</td>\n",
       "    </tr>\n",
       "    <tr>\n",
       "      <th>2</th>\n",
       "      <td>Charlie</td>\n",
       "      <td>22</td>\n",
       "      <td>A</td>\n",
       "    </tr>\n",
       "    <tr>\n",
       "      <th>3</th>\n",
       "      <td>David</td>\n",
       "      <td>24</td>\n",
       "      <td>C</td>\n",
       "    </tr>\n",
       "  </tbody>\n",
       "</table>\n",
       "</div>"
      ],
      "text/plain": [
       "      Name  Age Grade\n",
       "0    Alice   22     A\n",
       "1      Bob   23     B\n",
       "2  Charlie   22     A\n",
       "3    David   24     C"
      ]
     },
     "execution_count": 34,
     "metadata": {},
     "output_type": "execute_result"
    }
   ],
   "source": [
    "frame1"
   ]
  },
  {
   "cell_type": "code",
   "execution_count": 36,
   "id": "d0c773b2-a1ec-401e-b23f-1e151b36966a",
   "metadata": {},
   "outputs": [
    {
     "data": {
      "text/plain": [
       "<bound method DataFrame.sum of     Name    Age  Grade\n",
       "0  False  False  False\n",
       "1  False  False  False\n",
       "2  False  False  False\n",
       "3  False  False  False>"
      ]
     },
     "execution_count": 36,
     "metadata": {},
     "output_type": "execute_result"
    }
   ],
   "source": [
    "frame1.isnull().sum"
   ]
  },
  {
   "cell_type": "code",
   "execution_count": 38,
   "id": "e7b263fd-45e8-4847-ba99-90d65dba2218",
   "metadata": {},
   "outputs": [
    {
     "data": {
      "text/plain": [
       "Name     0\n",
       "Age      0\n",
       "Grade    0\n",
       "dtype: int64"
      ]
     },
     "execution_count": 38,
     "metadata": {},
     "output_type": "execute_result"
    }
   ],
   "source": [
    "frame1.isnull().sum()"
   ]
  },
  {
   "cell_type": "code",
   "execution_count": 50,
   "id": "4855d37d-dbf6-42ba-8781-2432a610255b",
   "metadata": {},
   "outputs": [
    {
     "name": "stdout",
     "output_type": "stream",
     "text": [
      "Updated DataFrame:\n",
      "      Name   Age Grade\n",
      "0    Alice  22.0     A\n",
      "1      Bob   NaN     B\n",
      "2  Charlie  22.0     A\n",
      "3    David  24.0   NaN\n"
     ]
    }
   ],
   "source": [
    "# Add NaN to some values\n",
    "frame1.loc[1, 'Age'] = np.nan  # Add NaN to Bob's Age\n",
    "frame1.loc[3, 'Grade'] = np.nan  # Add NaN to David's Grade\n",
    "print(\"Updated DataFrame:\")\n",
    "print(frame1)"
   ]
  },
  {
   "cell_type": "code",
   "execution_count": 52,
   "id": "ad7710ca-341f-4c16-9556-b63bcae8fb49",
   "metadata": {},
   "outputs": [
    {
     "name": "stdout",
     "output_type": "stream",
     "text": [
      "\n",
      "Sum of all NaN values in each column:\n",
      "Name     0\n",
      "Age      1\n",
      "Grade    1\n",
      "dtype: int64\n"
     ]
    }
   ],
   "source": [
    "# Check sum of all NaN values\n",
    "nan_sum = frame1.isnull().sum()\n",
    "\n",
    "print(\"\\nSum of all NaN values in each column:\")\n",
    "print(nan_sum)\n"
   ]
  },
  {
   "cell_type": "code",
   "execution_count": null,
   "id": "8bf4682e-2954-4b8c-8480-0b3056df3e24",
   "metadata": {},
   "outputs": [],
   "source": [
    "# | Axis | Refers to     | Direction         | Example Use Case               |\n",
    "# |------|----------------|-------------------|--------------------------------|\n",
    "# | 0    | **Rows**       | Top to bottom ↓   | Dropping rows, summing columns |\n",
    "# | 1    | **Columns**    | Left to right →   | Dropping columns, summing rows |"
   ]
  },
  {
   "cell_type": "code",
   "execution_count": 54,
   "id": "f25b42f2-380e-426b-9e79-35fb332820cb",
   "metadata": {},
   "outputs": [
    {
     "name": "stdout",
     "output_type": "stream",
     "text": [
      "\n",
      "Sum of NaN values by column:\n",
      "Name     0\n",
      "Age      1\n",
      "Grade    1\n",
      "dtype: int64\n"
     ]
    }
   ],
   "source": [
    "# Sum of NaN values by column (default is axis=0)\n",
    "nan_sum_by_column = frame1.isnull().sum(axis=0)\n",
    "print(\"\\nSum of NaN values by column:\")\n",
    "print(nan_sum_by_column)\n"
   ]
  },
  {
   "cell_type": "code",
   "execution_count": 56,
   "id": "08d0d023-b09e-4cdf-85b5-6937f9bbab5d",
   "metadata": {},
   "outputs": [
    {
     "name": "stdout",
     "output_type": "stream",
     "text": [
      "\n",
      "Sum of NaN values by row:\n",
      "0    0\n",
      "1    1\n",
      "2    0\n",
      "3    1\n",
      "dtype: int64\n"
     ]
    }
   ],
   "source": [
    "# Sum of NaN values by row\n",
    "nan_sum_by_row = frame1.isnull().sum(axis=1)\n",
    "print(\"\\nSum of NaN values by row:\")\n",
    "print(nan_sum_by_row)\n"
   ]
  },
  {
   "cell_type": "code",
   "execution_count": 58,
   "id": "b6d787f8-1968-4b04-9d6a-6ab3fd50dc50",
   "metadata": {},
   "outputs": [
    {
     "data": {
      "text/html": [
       "<div>\n",
       "<style scoped>\n",
       "    .dataframe tbody tr th:only-of-type {\n",
       "        vertical-align: middle;\n",
       "    }\n",
       "\n",
       "    .dataframe tbody tr th {\n",
       "        vertical-align: top;\n",
       "    }\n",
       "\n",
       "    .dataframe thead th {\n",
       "        text-align: right;\n",
       "    }\n",
       "</style>\n",
       "<table border=\"1\" class=\"dataframe\">\n",
       "  <thead>\n",
       "    <tr style=\"text-align: right;\">\n",
       "      <th></th>\n",
       "      <th>Name</th>\n",
       "      <th>Age</th>\n",
       "      <th>Grade</th>\n",
       "    </tr>\n",
       "  </thead>\n",
       "  <tbody>\n",
       "    <tr>\n",
       "      <th>0</th>\n",
       "      <td>Alice</td>\n",
       "      <td>22.0</td>\n",
       "      <td>A</td>\n",
       "    </tr>\n",
       "    <tr>\n",
       "      <th>1</th>\n",
       "      <td>Bob</td>\n",
       "      <td>NaN</td>\n",
       "      <td>B</td>\n",
       "    </tr>\n",
       "    <tr>\n",
       "      <th>2</th>\n",
       "      <td>Charlie</td>\n",
       "      <td>22.0</td>\n",
       "      <td>A</td>\n",
       "    </tr>\n",
       "    <tr>\n",
       "      <th>3</th>\n",
       "      <td>David</td>\n",
       "      <td>24.0</td>\n",
       "      <td>NaN</td>\n",
       "    </tr>\n",
       "  </tbody>\n",
       "</table>\n",
       "</div>"
      ],
      "text/plain": [
       "      Name   Age Grade\n",
       "0    Alice  22.0     A\n",
       "1      Bob   NaN     B\n",
       "2  Charlie  22.0     A\n",
       "3    David  24.0   NaN"
      ]
     },
     "execution_count": 58,
     "metadata": {},
     "output_type": "execute_result"
    }
   ],
   "source": [
    "frame1\n"
   ]
  },
  {
   "cell_type": "raw",
   "id": "f9330fb7-9a99-422c-933a-29d9533de473",
   "metadata": {},
   "source": [
    "np.nan stands for \"Not a Number\" and is used in NumPy to represent missing or undefined values, typically in datasets. It’s a special floating-point value that is part of the IEEE 754 standard for floating-point arithmetic.\n",
    "\n",
    "In Pandas, when you have missing values in your DataFrame, they are often represented as NaN.\n",
    "\n",
    "Key Points about np.nan:\n",
    "Represents Missing Data: np.nan is used to signify that a value is missing or undefined. For example, when you're working with a dataset and some entries are blank, Pandas will use NaN to represent those missing values.\n",
    "\n",
    "Doesn't Equal Anything:\n",
    "\n",
    "NaN is not equal to NaN. This is a key point in handling missing values.\n",
    "\n",
    "So, if you compare np.nan == np.nan, it will return False.\n",
    "\n",
    "To check if a value is NaN, you should use the function np.isnan().\n",
    "\n",
    "Use in DataFrames: Pandas will often use NaN to represent missing data in numerical columns, for example:\n",
    "\n",
    "df['column_name'] = [1, 2, np.nan, 4]\n",
    "\n"
   ]
  },
  {
   "cell_type": "code",
   "execution_count": 64,
   "id": "b7cd5ad7-4d44-4c26-9b4f-365244f5190e",
   "metadata": {},
   "outputs": [
    {
     "name": "stdout",
     "output_type": "stream",
     "text": [
      "    Name    Age  Grade\n",
      "0  False  False  False\n",
      "1  False   True  False\n",
      "2  False  False  False\n",
      "3  False  False   True\n"
     ]
    }
   ],
   "source": [
    "\n",
    "print(frame1.isnull())"
   ]
  },
  {
   "cell_type": "code",
   "execution_count": 68,
   "id": "b2bbdb03-8b7f-4c3f-973a-49f893035ec7",
   "metadata": {},
   "outputs": [
    {
     "name": "stdout",
     "output_type": "stream",
     "text": [
      "    Name    Age  Grade\n",
      "0  False  False  False\n",
      "1  False   True  False\n",
      "2  False  False  False\n",
      "3  False  False   True\n"
     ]
    }
   ],
   "source": [
    "print(frame1.isna())"
   ]
  },
  {
   "cell_type": "code",
   "execution_count": 70,
   "id": "9cb3a0c0-42be-41f5-91f8-1e454742ab4b",
   "metadata": {},
   "outputs": [
    {
     "name": "stdout",
     "output_type": "stream",
     "text": [
      "      Name   Age Grade\n",
      "0    Alice  22.0     A\n",
      "1      Bob   0.0     B\n",
      "2  Charlie  22.0     A\n",
      "3    David  24.0     0\n"
     ]
    }
   ],
   "source": [
    "frame1_filled = frame1.fillna(0)  # Replace NaN with 0\n",
    "print(frame1_filled)\n"
   ]
  },
  {
   "cell_type": "code",
   "execution_count": 72,
   "id": "9602c7c7-c917-4d49-8db6-e0fd8db7ca1c",
   "metadata": {},
   "outputs": [
    {
     "name": "stdout",
     "output_type": "stream",
     "text": [
      "      Name   Age Grade\n",
      "0    Alice  22.0     A\n",
      "2  Charlie  22.0     A\n"
     ]
    }
   ],
   "source": [
    "frame1_dropped = frame1.dropna()  # Drops rows containing NaN\n",
    "print(frame1_dropped)\n",
    "\n",
    "#fillna and dropna are pandas methods"
   ]
  },
  {
   "cell_type": "raw",
   "id": "966e9393-7b63-41b2-a735-c475ef393307",
   "metadata": {},
   "source": [
    "In Pandas, NA refers to Not Available or missing data. It is an alternate term used to represent missing or undefined values in a DataFrame, similar to NaN (Not a Number).\n",
    "\n",
    "Key Points:\n",
    "NA vs NaN:\n",
    "\n",
    "NaN: Used mainly to represent missing numeric data. It is part of the IEEE 754 standard for floating-point arithmetic.\n",
    "\n",
    "NA: Is more general and can be used for any kind of missing data, not just numeric, and is used in certain data structures like Pandas' NA type (since version 1.0).\n",
    "\n",
    "Pandas NA:\n",
    "\n",
    "NA is a Pandas-specific object (introduced in Pandas version 1.0) that represents missing data in any type of column (numeric, string, boolean, etc.).\n",
    "\n",
    "It is similar to np.nan but can be more versatile because it can be used with non-numeric data types (like strings or booleans) as well.\n",
    "\n",
    "When to use NA:\n",
    "\n",
    "When you're working with missing values in non-numeric data types, NA is preferred over NaN because NaN works best with numeric columns.\n",
    "\n",
    "NA can also be used in conjunction with pandas' extension types (like string dtype)."
   ]
  },
  {
   "cell_type": "raw",
   "id": "3c113f41-c034-4b0d-afec-e1dad73903b8",
   "metadata": {},
   "source": [
    "Key Differences:\n",
    "\n",
    "Aspect\tNaN (NumPy)\tNA (Pandas)\n",
    "Library\tNumPy\tPandas\n",
    "Type of Data\tNumerical (float)\tCan be used for any data type\n",
    "Missing Value\tUsed for numeric data\tUsed for any type of data\n",
    "Representation\tnp.nan\tpd.NA\n",
    "Handling in Operations\tWorks well with numeric operations (math)\tMore consistent with non-numeric operations\n",
    "Default Behavior\tPart of the IEEE 754 standard for floating-point operations\tA general missing value representation in Pandas"
   ]
  },
  {
   "cell_type": "raw",
   "id": "a3aa8c6e-e148-4235-8725-a210aa6cad12",
   "metadata": {},
   "source": [
    "isnull() and isna() are interchangeable.\n",
    "\n",
    "They both return a boolean DataFrame or Series, where True indicates missing values (e.g., NaN, None, or NA).\n",
    "\n",
    "You can use either function based on your personal preference or consistency in the code, as there is no functional difference.\n",
    "\n",
    "    Why Two Functions?\n",
    "Consistency with R: The function isna() is inspired by R, which also uses NA to represent missing values. Pandas added isna() to maintain consistency.\n",
    "\n",
    "Legacy reasons: isnull() was the original function to detect missing values in Pandas, and isna() was introduced later for convenience and to align with naming conventions from other languages like R.\n",
    "\n"
   ]
  },
  {
   "cell_type": "raw",
   "id": "82c39d58-4f85-4ab9-b842-d250f1f91ddd",
   "metadata": {},
   "source": [
    "pd.NaT : not a time\n",
    "pd.Timestamp('1939-05-27')\n",
    "\n",
    "Usage : data = {\n",
    "    'Name': ['Alice', 'Bob', 'Charlie'],\n",
    "    'JoinDate': [pd.Timestamp('2020-01-15'), pd.NaT, pd.Timestamp('2021-07-30')]\n",
    "}\n",
    "\n",
    " Summary:\n",
    "pd.NaT is used for missing datetime.\n",
    "\n",
    "pd.Timestamp() is used to create or compare specific dates.\n",
    "\n",
    "You can use these in operations like filtering, filling, or sorting date columns.\n",
    "\n",
    "df['JoinDate'] = df['JoinDate'].fillna(pd.Timestamp('2000-01-01'))\n",
    "\n",
    "df_no_missing = df.dropna(subset=['JoinDate'])\n",
    "\n",
    "# Get rows where JoinDate is after Jan 1, 2021\n",
    "df_recent = df[df['JoinDate'] > pd.Timestamp('2021-01-01')]\n",
    "\n"
   ]
  },
  {
   "cell_type": "code",
   "execution_count": null,
   "id": "3bc71e7f-bef9-4ca4-a303-b0801188469f",
   "metadata": {},
   "outputs": [],
   "source": []
  }
 ],
 "metadata": {
  "kernelspec": {
   "display_name": "Python [conda env:base] *",
   "language": "python",
   "name": "conda-base-py"
  },
  "language_info": {
   "codemirror_mode": {
    "name": "ipython",
    "version": 3
   },
   "file_extension": ".py",
   "mimetype": "text/x-python",
   "name": "python",
   "nbconvert_exporter": "python",
   "pygments_lexer": "ipython3",
   "version": "3.12.7"
  }
 },
 "nbformat": 4,
 "nbformat_minor": 5
}
